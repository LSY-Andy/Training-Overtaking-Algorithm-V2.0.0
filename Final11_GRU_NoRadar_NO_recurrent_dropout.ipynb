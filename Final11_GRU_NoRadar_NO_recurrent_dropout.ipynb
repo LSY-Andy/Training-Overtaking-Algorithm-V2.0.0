{
 "cells": [
  {
   "cell_type": "code",
   "execution_count": 1,
   "id": "ee740de1-0989-4fff-817c-93b6080d3595",
   "metadata": {},
   "outputs": [
    {
     "name": "stderr",
     "output_type": "stream",
     "text": [
      "2024-04-08 01:31:39.432374: I tensorflow/core/util/util.cc:169] oneDNN custom operations are on. You may see slightly different numerical results due to floating-point round-off errors from different computation orders. To turn them off, set the environment variable `TF_ENABLE_ONEDNN_OPTS=0`.\n"
     ]
    },
    {
     "name": "stdout",
     "output_type": "stream",
     "text": [
      "2.9.0\n"
     ]
    }
   ],
   "source": [
    "import tensorflow\n",
    "print(tensorflow.__version__)\n",
    "\n",
    "import numpy as np\n",
    "import pandas as pd\n",
    "import tensorflow as tf\n",
    "from tensorflow.keras.utils import Sequence\n",
    "from tensorflow.keras.models import Sequential\n",
    "from tensorflow.keras.layers import GRU, Dense, Masking\n",
    "from tensorflow.keras.layers import TimeDistributed,Dropout\n",
    "from tensorflow.keras.optimizers import Adam\n",
    "from tensorflow.keras.regularizers import l2\n",
    "from tensorflow.keras.layers import Input, GRU, Dense, TimeDistributed, Masking, concatenate\n",
    "from tensorflow.keras.models import Model\n",
    "import matplotlib.pyplot as plt\n",
    "\n",
    "# tf.config.set_visible_devices([], 'GPU')\n",
    "# 禁用GPU 这样才能成功的分配内存\n",
    "\n",
    "\n",
    "for gpu in tf.config.experimental.list_physical_devices('GPU'):\n",
    "    tf.config.experimental.set_memory_growth(gpu, True)\n",
    "\n",
    "\n",
    "import os\n",
    "import re\n",
    "import gc\n"
   ]
  },
  {
   "cell_type": "code",
   "execution_count": 2,
   "id": "8984fcd0-f7e6-40c3-a251-ff9f3fee9954",
   "metadata": {},
   "outputs": [],
   "source": [
    "class MemoryDataGenerator(Sequence):\n",
    "    def __init__(self, X_data, Y_data, batch_size):\n",
    "        self.X_data = X_data\n",
    "        self.Y_data = Y_data\n",
    "        self.batch_size = batch_size\n",
    "    \n",
    "    def __len__(self):\n",
    "        # 计算在给定数据集大小下的批次数量\n",
    "        return int(np.ceil(len(self.X_data) / self.batch_size))\n",
    "    \n",
    "    def __getitem__(self, index):\n",
    "        # 生成批次的数据索引\n",
    "        batch_start = index * self.batch_size\n",
    "        batch_end = (index + 1) * self.batch_size\n",
    "        \n",
    "        # 根据索引获取当前批次的数据\n",
    "        batch_X = self.X_data[batch_start:batch_end]\n",
    "        batch_Y = self.Y_data[batch_start:batch_end]\n",
    "        \n",
    "        # 对当前批次的数据进行填充\n",
    "        # 现在感觉并不需要\n",
    "        # batch_X_padded = tensorflow.keras.preprocessing.sequence.pad_sequences(batch_X, padding=\"post\", value=special_value, dtype='float32')\n",
    "        \n",
    "        # batch_Y_padded = tensorflow.keras.preprocessing.sequence.pad_sequences(batch_Y, padding=\"post\", value=special_value, dtype='float32')\n",
    "        \n",
    "        return np.array(batch_X), np.array(batch_Y)\n",
    "        # 目的: 确保数据以适合模型处理的格式（如float32）被送入训练过程。\n",
    "        # 操作: 将填充后的数据转换为NumPy数组，并确保数据类型为float32，这是大多数深度学习框架进行计算的首选格式。\n",
    "    \n",
    "\n",
    "def loading_data(folder):\n",
    "\n",
    "    # use regular expression to filter files\n",
    "    # file's name start with 'ML'\n",
    "    check_name = re.compile('^ML')\n",
    "\n",
    "    datasets = []\n",
    "\n",
    "    # due to different operating system has different way in keeping files, here I would like to read files in sorted by name order and say it explicitly\n",
    "    # the reason why must sorted by name will be explained later\n",
    "    for filename in sorted(os.listdir(folder)):\n",
    "\n",
    "        files = os.path.join(folder, filename)\n",
    "\n",
    "        # check whether the name match the regular expression and actually is a file\n",
    "        # 对文件名进行顺序排序，这对于数据保持时间顺序至关重要\n",
    "        if re.match(check_name, filename) and os.path.isfile(files):\n",
    "\n",
    "            # using pandas to read csv file\n",
    "            # there are only three headers: Speed, Steering_angle, LiDAR_scan. \n",
    "            # But there are 1083 columns data, which means the number of header doesn't match number of column\n",
    "            # So, we need to skip first row, and set header is None.\n",
    "            # Besides, the value in last column is all None, we have to drop column at index -1\n",
    "            temp = pd.read_csv(files, skiprows=1, header=None).iloc[:, :-1]\n",
    "\n",
    "            # Because the speed is a very large number compare to steering angle,\n",
    "            # We have to normalize it into [-1, 1], and do the same to steering angle\n",
    "            # When apply the model in the simulator, remember to product corresponding value to the output of the model\n",
    "            # index 0 is speed, index 1 is steering angle\n",
    "            temp[0] = temp[0].map(lambda t : t/16.0)\n",
    "            temp[1] = temp[1].map(lambda t : t/0.192)\n",
    "\n",
    "            # append this csv file to the result, and turn it into numpy array with float format\n",
    "            datasets.append(np.array(temp, dtype=float))\n",
    "\n",
    "    # when append data to a list, there will be a copy of old list, which took a lot of memory\n",
    "    # but there is no reference to them, so we can call the garbage collector\n",
    "    gc.collect()\n",
    "\n",
    "    # datasets is a 3D list, shape 0 is number of csv files, shape 1 is number of rows in that csv file, shape 2 is 1083\n",
    "    return datasets\n",
    "\n",
    "def loading_speed_steering_data(folder):\n",
    "\n",
    "    # file's name start with 'car_state_blue'\n",
    "    check_name = re.compile('^car_state_blue')\n",
    "\n",
    "    datasets = []\n",
    "\n",
    "    # Also need to iterate in sorted by name order\n",
    "    for filename in sorted(os.listdir(folder)):\n",
    "\n",
    "        files = os.path.join(folder, filename)\n",
    "\n",
    "        if re.match(check_name, filename) and os.path.isfile(files):\n",
    "\n",
    "            # We need another two columns from car_state_blue files,\n",
    "            # one is Velocity_X, another is Steering_angle\n",
    "            datasets.append(np.array(pd.read_csv(files).iloc[:, [3, 5]], dtype=float))\n",
    "\n",
    "    gc.collect()\n",
    "    # datasets is a 3D list, shape 0 is number of csv files, shape 1 is number of rows in that csv file, shape 2 is 2\n",
    "    return datasets"
   ]
  },
  {
   "cell_type": "code",
   "execution_count": 3,
   "id": "3f2263c5-5242-4aec-a6bd-e2a8b1c178e9",
   "metadata": {},
   "outputs": [],
   "source": [
    "def load_data_from_folders(folders):\n",
    "    all_datasets = []  # 这里假设所有数据集的数据将被合并到一个单一的列表中\n",
    "    all_speed_steering = []  # 同上，对于速度和转向数据\n",
    "    \n",
    "    for folder in folders:\n",
    "        # 加载当前文件夹的数据\n",
    "        datasets = loading_data(folder)\n",
    "        speed_steering = loading_speed_steering_data(folder)\n",
    "        \n",
    "        # 假设datasets和speed_steering是列表形式的数据，我们可以扩展现有列表以包含新加载的数据\n",
    "        all_datasets.extend(datasets)  # 扩展而不是附加以保持列表元素的平坦\n",
    "        all_speed_steering.extend(speed_steering)\n",
    "    \n",
    "    return all_datasets, all_speed_steering\n",
    "\n",
    "# 使用示例\n",
    "# folders = [\"/root/autodl-tmp/Dataset_shanghai\", \"/root/autodl-tmp/Australia_dataset\", \"/root/autodl-tmp/Gulf_dataset\", \"/root/autodl-tmp/Malaysian_dataset\"]\n",
    "folders = [\"/root/autodl-tmp/Dataset_shanghai\"]\n",
    "datasets, speed_steering = load_data_from_folders(folders)\n",
    "# folders2 = [\"/root/autodl-tmp/Dataset_shanghai\"]\n",
    "# datasets_test, speed_steering_test = load_data_from_folders(folders2)"
   ]
  },
  {
   "cell_type": "code",
   "execution_count": 4,
   "id": "1c6eeb80-421e-43cb-9a04-bfd8b11b6f66",
   "metadata": {},
   "outputs": [
    {
     "name": "stdout",
     "output_type": "stream",
     "text": [
      "178\n",
      "Xpad shape: (178, 3997, 1083)\n",
      "Ypad shape: (178, 3997, 2)\n"
     ]
    }
   ],
   "source": [
    "new_datasets = datasets\n",
    "new_speed_steering = speed_steering\n",
    "\n",
    "special_value = -100\n",
    "feature_size = 1083\n",
    "\n",
    "\n",
    "X = []\n",
    "Y = []\n",
    "\n",
    "for data, speed_steering in zip(new_datasets, new_speed_steering):\n",
    "    # 将LiDAR数据（除了前两列外的所有列）和速度、转向角数据（从new_speed_steering）合并\n",
    "    current_features = np.concatenate((data[:, 2:], speed_steering), axis=1)\n",
    "    X.append(current_features)\n",
    "\n",
    "    # 使用前两列作为要预测的目标\n",
    "    Y.append(data[:, 0:2])\n",
    "\n",
    "\n",
    "# 遍历X并输出每个序列的长度\n",
    "# for i, seq in enumerate(X):\n",
    "#     print(f\"序列 {i+1} 的长度: {len(seq)}\")\n",
    "\n",
    "\n",
    "# 对较短的序列进行填充\n",
    "# Xpad = tensorflow.keras.preprocessing.sequence.pad_sequences(X, padding='post', value=special_value)\n",
    "# Ypad = tensorflow.keras.preprocessing.sequence.pad_sequences(Y, padding='post', value=special_value)\n",
    "\n",
    "# # 截断长度大于4000的序列\n",
    "# X_trimmed = [x if len(x) <= 4000 else x[:4000] for x in X]\n",
    "# Y_trimmed = [y if len(y) <= 4000 else y[:4000] for y in Y]\n",
    "\n",
    "\n",
    "# 从截断序列更换成抛弃过长序列，否则单纯截断会造成数据不好\n",
    "# Define a new function to filter out sequences longer than 4000 timesteps\n",
    "def filter_sequences(sequences, max_length=4000):\n",
    "    # Keep only sequences with length less than or equal to max_length\n",
    "    filtered = [seq for seq in sequences if len(seq) <= max_length]\n",
    "    return filtered\n",
    "\n",
    "# Apply filtering to both X (features) and Y (labels) datasets\n",
    "X_filtered = filter_sequences(X)\n",
    "Y_filtered = filter_sequences(Y)\n",
    "\n",
    "# Note: It's important that the filtering is done in a way that retains the correspondence\n",
    "# between X and Y. The above code assumes that both X and Y are lists of sequences\n",
    "# and that the ith element of X corresponds to the ith element of Y.\n",
    "\n",
    "\n",
    "# # 填充至最大长度\n",
    "# Xpad = tensorflow.keras.preprocessing.sequence.pad_sequences(X_trimmed, padding='post', value=special_value)\n",
    "# Ypad = tensorflow.keras.preprocessing.sequence.pad_sequences(Y_trimmed, padding='post', value=special_value)\n",
    "\n",
    "Xpad = tensorflow.keras.preprocessing.sequence.pad_sequences(X_filtered, padding='post', value=special_value)\n",
    "Ypad = tensorflow.keras.preprocessing.sequence.pad_sequences(Y_filtered, padding='post', value=special_value)\n",
    "\n",
    "\n",
    "\n",
    "\n",
    "print(len(Xpad))\n",
    "print(\"Xpad shape:\", Xpad.shape)\n",
    "print(\"Ypad shape:\", Ypad.shape)\n",
    "\n",
    "# Xpad shape: (193, 6847, 1083)\n",
    "# Ypad shape: (193, 6847, 2)\n",
    "# 193样本数量，193个超车实例；  6847超车实例中所用时间最多的时间步长   ；1083每个时间步长中的元素值\n"
   ]
  },
  {
   "cell_type": "code",
   "execution_count": 5,
   "id": "980603bc-f682-4662-bc37-6e6e2e04b8a4",
   "metadata": {},
   "outputs": [
    {
     "name": "stdout",
     "output_type": "stream",
     "text": [
      "WARNING:tensorflow:Layer gru will not use cuDNN kernels since it doesn't meet the criteria. It will use a generic GPU kernel as fallback when running on GPU.\n",
      "WARNING:tensorflow:Layer gru_1 will not use cuDNN kernels since it doesn't meet the criteria. It will use a generic GPU kernel as fallback when running on GPU.\n"
     ]
    },
    {
     "name": "stderr",
     "output_type": "stream",
     "text": [
      "2024-04-08 01:32:33.750657: I tensorflow/core/platform/cpu_feature_guard.cc:193] This TensorFlow binary is optimized with oneAPI Deep Neural Network Library (oneDNN) to use the following CPU instructions in performance-critical operations:  AVX2 AVX512F AVX512_VNNI AVX512_BF16 FMA\n",
      "To enable them in other operations, rebuild TensorFlow with the appropriate compiler flags.\n",
      "2024-04-08 01:32:34.667278: I tensorflow/core/common_runtime/gpu/gpu_device.cc:1532] Created device /job:localhost/replica:0/task:0/device:GPU:0 with 22302 MB memory:  -> device: 0, name: NVIDIA GeForce RTX 3090, pci bus id: 0000:43:00.0, compute capability: 8.6\n",
      "2024-04-08 01:32:34.668210: I tensorflow/core/common_runtime/gpu/gpu_device.cc:1532] Created device /job:localhost/replica:0/task:0/device:GPU:1 with 22302 MB memory:  -> device: 1, name: NVIDIA GeForce RTX 3090, pci bus id: 0000:44:00.0, compute capability: 8.6\n"
     ]
    },
    {
     "name": "stdout",
     "output_type": "stream",
     "text": [
      "Model: \"model\"\n",
      "_________________________________________________________________\n",
      " Layer (type)                Output Shape              Param #   \n",
      "=================================================================\n",
      " input_1 (InputLayer)        [(None, None, 1083)]      0         \n",
      "                                                                 \n",
      " masking (Masking)           (None, None, 1083)        0         \n",
      "                                                                 \n",
      " gru (GRU)                   (None, None, 256)         1029888   \n",
      "                                                                 \n",
      " gru_1 (GRU)                 (None, None, 128)         148224    \n",
      "                                                                 \n",
      " time_distributed (TimeDistr  (None, None, 2)          258       \n",
      " ibuted)                                                         \n",
      "                                                                 \n",
      "=================================================================\n",
      "Total params: 1,178,370\n",
      "Trainable params: 1,178,370\n",
      "Non-trainable params: 0\n",
      "_________________________________________________________________\n",
      "Epoch 1/10\n"
     ]
    },
    {
     "name": "stderr",
     "output_type": "stream",
     "text": [
      "2024-04-08 01:32:39.244214: I tensorflow/stream_executor/cuda/cuda_blas.cc:1786] TensorFloat-32 will be used for the matrix multiplication. This will only be logged once.\n"
     ]
    },
    {
     "name": "stdout",
     "output_type": "stream",
     "text": [
      "45/45 [==============================] - 700s 15s/step - loss: 0.2247 - mae: 0.4040 - val_loss: 0.0707 - val_mae: 0.1761\n",
      "Epoch 2/10\n",
      "45/45 [==============================] - 691s 15s/step - loss: 0.0638 - mae: 0.1449 - val_loss: 0.0599 - val_mae: 0.1237\n",
      "Epoch 3/10\n",
      "45/45 [==============================] - 694s 15s/step - loss: 0.0589 - mae: 0.1253 - val_loss: 0.0584 - val_mae: 0.1284\n",
      "Epoch 4/10\n",
      "45/45 [==============================] - 691s 15s/step - loss: 0.0557 - mae: 0.1061 - val_loss: 0.0551 - val_mae: 0.1049\n",
      "Epoch 5/10\n",
      "45/45 [==============================] - 695s 15s/step - loss: 0.0540 - mae: 0.1046 - val_loss: 0.0540 - val_mae: 0.1162\n",
      "Epoch 6/10\n",
      "45/45 [==============================] - 692s 15s/step - loss: 0.0526 - mae: 0.1057 - val_loss: 0.0515 - val_mae: 0.1033\n",
      "Epoch 7/10\n",
      "45/45 [==============================] - 690s 15s/step - loss: 0.0516 - mae: 0.1081 - val_loss: 0.0491 - val_mae: 0.0945\n",
      "Epoch 8/10\n",
      "45/45 [==============================] - 695s 15s/step - loss: 0.0497 - mae: 0.1078 - val_loss: 0.0486 - val_mae: 0.1036\n",
      "Epoch 9/10\n",
      "45/45 [==============================] - 691s 15s/step - loss: 0.0482 - mae: 0.1045 - val_loss: 0.0480 - val_mae: 0.1146\n",
      "Epoch 10/10\n",
      "45/45 [==============================] - 697s 16s/step - loss: 0.0462 - mae: 0.0992 - val_loss: 0.0457 - val_mae: 0.1030\n",
      "6/6 [==============================] - 9s 1s/step - loss: 0.0457 - mae: 0.1032\n",
      "Test Loss: 0.04569903388619423, Test MAE: 0.10317274183034897\n"
     ]
    }
   ],
   "source": [
    "train_generator = MemoryDataGenerator(Xpad, Ypad, batch_size=4)\n",
    "\n",
    "# 假设input_shape是根据您的数据调整过的，例如，(None, 1081) 其中None代表可变的时间步长\n",
    "input_shape = (None, feature_size)  # feature_size根据您的特征数量调整\n",
    "\n",
    "\n",
    "# 定义模型输入\n",
    "inputs = Input(shape=input_shape)\n",
    "\n",
    "# 掩码层\n",
    "masked = Masking(mask_value=special_value)(inputs)\n",
    "\n",
    "# GRU层\n",
    "# gru1 = GRU(256, return_sequences=True, dropout=0.2, recurrent_dropout=0.2)(masked)\n",
    "# gru2 = GRU(128, return_sequences=True, dropout=0.2, recurrent_dropout=0.2)(gru1)\n",
    "\n",
    "gru1 = GRU(256, return_sequences=True, dropout=0.2)(masked)\n",
    "gru2 = GRU(128, return_sequences=True, dropout=0.2)(gru1)\n",
    "\n",
    "# 时间分布密集层\n",
    "outputs = TimeDistributed(Dense(2, activation='linear', kernel_regularizer=l2(0.01)))(gru2)\n",
    "\n",
    "# 创建模型\n",
    "model = Model(inputs=inputs, outputs=outputs)\n",
    "\n",
    "# 编译模型\n",
    "adam_optimizer = Adam(learning_rate=0.001)\n",
    "model.compile(optimizer=adam_optimizer, loss='mse', metrics=['mae'])\n",
    "\n",
    "# 模型总结\n",
    "model.summary()\n",
    "\n",
    "# 假设train_generator, Xpad, Ypad已经准备好\n",
    "# 训练模型\n",
    "history = model.fit(\n",
    "    train_generator,\n",
    "    epochs=10,  # 举例，根据需要调整\n",
    "    validation_data=train_generator\n",
    ")\n",
    "\n",
    "# 评估模型\n",
    "test_loss, test_mae = model.evaluate(Xpad, Ypad)\n",
    "print(f\"Test Loss: {test_loss}, Test MAE: {test_mae}\")\n",
    "\n",
    "\n"
   ]
  },
  {
   "cell_type": "code",
   "execution_count": 6,
   "id": "693ba97e-1c9c-435b-828c-0d555c069a63",
   "metadata": {},
   "outputs": [
    {
     "data": {
      "image/png": "[encoded data removed]",
      "text/plain": [
       "<Figure size 576x360 with 1 Axes>"
      ]
     },
     "metadata": {
      "needs_background": "light"
     },
     "output_type": "display_data"
    }
   ],
   "source": [
    "import matplotlib.pyplot as plt\n",
    "import os\n",
    "\n",
    "# 假定 history 对象中包含了训练和验证的损失以及MAE\n",
    "train_loss = history.history['loss']\n",
    "val_loss = history.history['val_loss']\n",
    "train_mae = history.history['mae']\n",
    "val_mae = history.history['val_mae']\n",
    "epochs = range(1, len(train_loss) + 1)\n",
    "\n",
    "# 绘制损失曲线并保存\n",
    "plt.figure(figsize=(8, 5))\n",
    "plt.plot(epochs, train_loss, 'navy', label='Training Loss', marker='o')\n",
    "plt.plot(epochs, val_loss, 'darkorange', label='Validation Loss', marker='x')\n",
    "plt.title('Training and Validation Loss')\n",
    "plt.xlabel('Epochs')\n",
    "plt.ylabel('Loss')\n",
    "plt.legend()\n",
    "plt.grid(True)  # 添加网格线\n",
    "\n",
    "# 定义损失图像保存路径\n",
    "save_path_loss = '/root/autodl-tmp/models/计算时间和资源实验/1.GRU_改了截断_加ecurrent_drop/GRU_model1_loss.png'\n",
    "# 检查目录是否存在，如果不存在，则创建\n",
    "if not os.path.exists(os.path.dirname(save_path_loss)):\n",
    "    os.makedirs(os.path.dirname(save_path_loss))\n",
    "# 保存图形到文件，设置保存时的背景色\n",
    "plt.savefig(save_path_loss, dpi=300, bbox_inches='tight', facecolor='white')"
   ]
  },
  {
   "cell_type": "code",
   "execution_count": 7,
   "id": "3efefc24-80bc-401e-bcd4-243f4d2e1ddc",
   "metadata": {},
   "outputs": [
    {
     "data": {
      "image/png": "[encoded data removed]",
      "text/plain": [
       "<Figure size 576x360 with 1 Axes>"
      ]
     },
     "metadata": {
      "needs_background": "light"
     },
     "output_type": "display_data"
    }
   ],
   "source": [
    "# 绘制MAE曲线并保存\n",
    "plt.figure(figsize=(8, 5))\n",
    "plt.plot(epochs, train_mae, 'navy', label='Training MAE', marker='o')\n",
    "plt.plot(epochs, val_mae, 'darkorange', label='Validation MAE', marker='x')\n",
    "plt.title('Training and Validation MAE')\n",
    "plt.xlabel('Epochs')\n",
    "plt.ylabel('MAE')\n",
    "plt.legend()\n",
    "plt.grid(True)  # 添加网格线\n",
    "\n",
    "# 定义MAE图像保存路径\n",
    "save_path_mae = '/root/autodl-tmp/models/计算时间和资源实验/1.GRU_改了截断_加ecurrent_drop/GRU_model1_mae.png'\n",
    "# 检查目录是否存在，如果不存在，则创建\n",
    "if not os.path.exists(os.path.dirname(save_path_mae)):\n",
    "    os.makedirs(os.path.dirname(save_path_mae))\n",
    "# 保存图形到文件，设置保存时的背景色\n",
    "plt.savefig(save_path_mae, dpi=300, bbox_inches='tight', facecolor='white')\n"
   ]
  },
  {
   "cell_type": "code",
   "execution_count": 8,
   "id": "9116b3aa-fb38-4529-ad12-1993b89a0aca",
   "metadata": {},
   "outputs": [
    {
     "name": "stdout",
     "output_type": "stream",
     "text": [
      "INFO:tensorflow:Assets written to: /root/autodl-tmp/models/计算时间和资源实验/1.GRU_改了截断_加ecurrent_drop/assets\n"
     ]
    }
   ],
   "source": [
    "model.save(\"/root/autodl-tmp/models/计算时间和资源实验/1.GRU_改了截断_加ecurrent_drop/\")"
   ]
  },
  {
   "cell_type": "code",
   "execution_count": null,
   "id": "a7e44d00-e5b6-43e5-bd60-94e3f495ec4f",
   "metadata": {},
   "outputs": [],
   "source": []
  }
 ],
 "metadata": {
  "kernelspec": {
   "display_name": "Python 3 (ipykernel)",
   "language": "python",
   "name": "python3"
  },
  "language_info": {
   "codemirror_mode": {
    "name": "ipython",
    "version": 3
   },
   "file_extension": ".py",
   "mimetype": "text/x-python",
   "name": "python",
   "nbconvert_exporter": "python",
   "pygments_lexer": "ipython3",
   "version": "3.8.10"
  }
 },
 "nbformat": 4,
 "nbformat_minor": 5
}
